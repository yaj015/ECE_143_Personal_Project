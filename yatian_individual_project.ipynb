{
 "cells": [
  {
   "cell_type": "code",
   "execution_count": 42,
   "metadata": {
    "collapsed": true
   },
   "outputs": [],
   "source": [
    "import numpy as np\n",
    "import random\n",
    "import matplotlib.path as mpath\n",
    "import matplotlib.patches as mpatches\n",
    "import matplotlib.pyplot as plt\n",
    "from matplotlib import colors as mcolors\n",
    "\n",
    "class Rectangle:\n",
    "    def __init__(self, x1, y1, length, width):\n",
    "        # length is on x axis, width is on y axis\n",
    "        self.x1 = x1\n",
    "        self.y1 = y1\n",
    "        self.length = length\n",
    "        self.width = width\n",
    "        self.visited = set([])\n",
    "class recIteration:\n",
    "    def __init__(self):\n",
    "        self.visited = set([])\n",
    "    def iterate(self, rec):\n",
    "        # recursive call to iterate all subRectangles in this rectangle\n",
    "        res = []\n",
    "        tmp = Rectangle(rec.x1, rec.y1, rec.length, rec.width)\n",
    "        res.append(tmp)\n",
    "        if rec.length == 1 and rec.width == 1:\n",
    "            return res\n",
    "        else:\n",
    "            if rec.length > 1:\n",
    "                subTuple1 = (rec.x1, rec.y1, rec.length-1, rec.width)\n",
    "                subTuple2 = (rec.x1+1, rec.y1, rec.length-1, rec.width)\n",
    "                subRec1 = Rectangle(rec.x1, rec.y1, rec.length-1, rec.width)\n",
    "                subRec2 = Rectangle(rec.x1+1, rec.y1, rec.length-1, rec.width)\n",
    "                #res += subRec1.iterateRectangles()\n",
    "                #res += subRec2.iterateRectangles()\n",
    "                if not subTuple1 in self.visited:\n",
    "                    self.visited.add(subTuple1)\n",
    "                    res = res + self.iterate(subRec1)\n",
    "\n",
    "                if not subTuple2 in self.visited:\n",
    "                    self.visited.add(subTuple2)\n",
    "                    res = res + self.iterate(subRec2)\n",
    "            if rec.width > 1:\n",
    "                subTuple3 = (rec.x1, rec.y1, rec.length, rec.width-1)\n",
    "                subTuple4 = (rec.x1, rec.y1+1, rec.length, rec.width-1)\n",
    "                subRec3 = Rectangle(rec.x1, rec.y1, rec.length, rec.width-1)\n",
    "                subRec4 = Rectangle(rec.x1, rec.y1+1, rec.length, rec.width-1)\n",
    "                #res += subRec3.iterateRectangles()\n",
    "                #res += subRec4.iterateRectangles()\n",
    "                if not subTuple3 in self.visited:\n",
    "                    self.visited.add(subTuple3)\n",
    "                    res = res + self.iterate(subRec3)\n",
    "                if not subTuple4 in self.visited:\n",
    "                    self.visited.add(subTuple4)\n",
    "                    res = res + self.iterate(subRec4)\n",
    "                    \n",
    "        res.sort(key=lambda rec: rec.length*rec.width, reverse=True)\n",
    "        return res\n",
    "    def flush(self):\n",
    "        self.visited = set([])\n",
    "class RecVisual:\n",
    "    # the overall expected rectangle is a rectangle of x_length * y_length\n",
    "    def __init__(self, x_length, y_length):\n",
    "        assert isinstance(x_length, int)\n",
    "        assert isinstance(y_length, int)\n",
    "        self.length = x_length\n",
    "        self.width = y_length\n",
    "        self.rectangles = []\n",
    "        self.colorMap = list(mcolors.CSS4_COLORS)\n",
    "        self.usedSquare = set([])\n",
    "\n",
    "        self.minIndex = 0\n",
    "        self.maxIndex = x_length*y_length-1\n",
    "\n",
    "    def getUnitRectangles(self, rec):\n",
    "        # return the index of (1x1) rectangles that are in this rectangle\n",
    "        res = []\n",
    "        leftBotX = rec.x1\n",
    "        leftBotY = rec.y1\n",
    "        length = rec.length\n",
    "        width = rec.width\n",
    "        for y in range(leftBotY, leftBotY+width):\n",
    "            yIdx = y*self.length\n",
    "            for x in range(leftBotX, leftBotX+length):\n",
    "                res.append(x+yIdx)\n",
    "        return res\n",
    "    def getResultCoverage(self, n):\n",
    "        # generate n random rectangles in this Rectangle's range\n",
    "        # for each new rectangle, get the largest uncovered rectangle\n",
    "        # return result coverage\n",
    "        for i in range(n):\n",
    "            rec = self.generateOneRec()\n",
    "            self.dealRec(rec)\n",
    "        print(\"Resulted coverage after n rectangles: \" + str(len(self.usedSquare)))\n",
    "        return len(self.usedSquare)\n",
    "\n",
    "    def dealRec(self, rec):\n",
    "        #subRecs = rec.iterateRectangles()\n",
    "        iterator = recIteration()\n",
    "        subRecs = iterator.iterate(rec)\n",
    "        for rectangle in subRecs:\n",
    "            unitRectangles = self.getUnitRectangles(rectangle)\n",
    "            cover = False\n",
    "            for idx in unitRectangles:\n",
    "                if idx in self.usedSquare:\n",
    "                    cover = True\n",
    "                    break\n",
    "            if not cover:\n",
    "                self.rectangles.append(rectangle)\n",
    "                # self.colorMap\n",
    "                for idx in unitRectangles:\n",
    "                    self.usedSquare.add(idx)\n",
    "                break\n",
    "            else:\n",
    "                continue\n",
    "\n",
    "\n",
    "    def generateOneRec(self):\n",
    "        # randomly generate one sub rectangle in this rectangle\n",
    "        recLength = random.randint(1, self.length)\n",
    "        recWidth = random.randint(1, self.width)\n",
    "\n",
    "        x1 = random.randint(0, self.length-recLength)\n",
    "        y1 = random.randint(0, self.width-recWidth)\n",
    "        rec = Rectangle(x1, y1, recLength, recWidth)\n",
    "        return rec\n",
    "\n",
    "    def coverFull(self, totalTimes):\n",
    "        # try to cover the whole rectangle n times.\n",
    "        # in each time, record the number of sub Rectangles to cover this rectangle\n",
    "        # return total_number / totalTimes, as the average rectangles needed to cover the whole rectangle\n",
    "        totalNum = 0\n",
    "        for i in range(totalTimes):\n",
    "            while len(self.usedSquare) != self.width*self.length:\n",
    "                rec = self.generateOneRec()\n",
    "                self.dealRec(rec)\n",
    "                totalNum += 1\n",
    "            self.visual()\n",
    "            self.flush()\n",
    "        print(\"average number of rectangles needed to fill the rectangle:\" + str(totalNum*1.0/totalTimes))\n",
    "        return totalNum*1.0/totalTimes\n",
    "\n",
    "    def flush(self):\n",
    "        # flush self rectangle\n",
    "        self.rectangles = []\n",
    "        self.usedSquare = set([])\n",
    "    def visual(self):\n",
    "        # visualize this rectangle\n",
    "        v1, v2 = plt.subplots()\n",
    "        for i in range(len(self.rectangles)):\n",
    "            x1 = self.rectangles[i].x1\n",
    "            y1 = self.rectangles[i].y1\n",
    "            length = self.rectangles[i].length\n",
    "            width = self.rectangles[i].width\n",
    "\n",
    "            color = self.colorMap[i]\n",
    "            x_left = x1\n",
    "            x_right = x_left + length\n",
    "            y_lower = y1\n",
    "            y_upper = y1+width\n",
    "            x_axis = np.arange(x_left, x_right+1, 1)\n",
    "            plt.fill_between(x_axis, y_lower, y_upper, color=color, alpha='1')\n",
    "\n",
    "        plt.axis([0, self.length, 0, self.width])\n",
    "        plt.show()"
   ]
  },
  {
   "cell_type": "code",
   "execution_count": null,
   "metadata": {
    "collapsed": true
   },
   "outputs": [],
   "source": []
  },
  {
   "cell_type": "code",
   "execution_count": null,
   "metadata": {
    "collapsed": true
   },
   "outputs": [],
   "source": []
  },
  {
   "cell_type": "code",
   "execution_count": 43,
   "metadata": {
    "collapsed": true
   },
   "outputs": [],
   "source": [
    "#create a 20*10 desired coverage range\n",
    "visualRec = RecVisual(20,10)"
   ]
  },
  {
   "cell_type": "code",
   "execution_count": null,
   "metadata": {
    "collapsed": true
   },
   "outputs": [],
   "source": []
  },
  {
   "cell_type": "code",
   "execution_count": 44,
   "metadata": {},
   "outputs": [
    {
     "name": "stdout",
     "output_type": "stream",
     "text": [
      "Resulted coverage after n rectangles: 172\n",
      "coverage relative to the desired: 0.86\n",
      "there is a gap in coverage\n"
     ]
    }
   ],
   "source": [
    "# let n = 10, aka, we have 10 communication towers (10 square footprints)\n",
    "visualRec.flush()\n",
    "coverage = visualRec.getResultCoverage(10)\n",
    "ratio = (coverage*1.0/(20*10))\n",
    "print (\"coverage relative to the desired: \" + str(ratio))\n",
    "if ratio < 1:\n",
    "    print (\"there is a gap in coverage\")\n",
    "else:\n",
    "    print (\"there is no gap in coverage\")"
   ]
  },
  {
   "cell_type": "code",
   "execution_count": 45,
   "metadata": {},
   "outputs": [
    {
     "data": {
      "image/png": "[encoded data removed]",
      "text/plain": [
       "<matplotlib.figure.Figure at 0x7f0f8cb66550>"
      ]
     },
     "metadata": {},
     "output_type": "display_data"
    }
   ],
   "source": [
    "visualRec.visual()"
   ]
  },
  {
   "cell_type": "code",
   "execution_count": 46,
   "metadata": {},
   "outputs": [
    {
     "data": {
      "image/png": "[encoded data removed]",
      "text/plain": [
       "<matplotlib.figure.Figure at 0x7f0f892e3048>"
      ]
     },
     "metadata": {},
     "output_type": "display_data"
    },
    {
     "data": {
      "image/png": "[encoded data removed]",
      "text/plain": [
       "<matplotlib.figure.Figure at 0x7f0f892718d0>"
      ]
     },
     "metadata": {},
     "output_type": "display_data"
    },
    {
     "data": {
      "image/png": "[encoded data removed]",
      "text/plain": [
       "<matplotlib.figure.Figure at 0x7f0f5adb0ac8>"
      ]
     },
     "metadata": {},
     "output_type": "display_data"
    },
    {
     "data": {
      "image/png": "[encoded data removed]",
      "text/plain": [
       "<matplotlib.figure.Figure at 0x7f0f8806ef60>"
      ]
     },
     "metadata": {},
     "output_type": "display_data"
    },
    {
     "data": {
      "image/png": "[encoded data removed]",
      "text/plain": [
       "<matplotlib.figure.Figure at 0x7f0f8d98ff28>"
      ]
     },
     "metadata": {},
     "output_type": "display_data"
    },
    {
     "data": {
      "image/png": "[encoded data removed]",
      "text/plain": [
       "<matplotlib.figure.Figure at 0x7f0f5ae104a8>"
      ]
     },
     "metadata": {},
     "output_type": "display_data"
    },
    {
     "data": {
      "image/png": "[encoded data removed]",
      "text/plain": [
       "<matplotlib.figure.Figure at 0x7f0f5ad5db00>"
      ]
     },
     "metadata": {},
     "output_type": "display_data"
    },
    {
     "data": {
      "image/png": "[encoded data removed]",
      "text/plain": [
       "<matplotlib.figure.Figure at 0x7f0f8d997128>"
      ]
     },
     "metadata": {},
     "output_type": "display_data"
    },
    {
     "data": {
      "image/png": "[encoded data removed]",
      "text/plain": [
       "<matplotlib.figure.Figure at 0x7f0f5ae104a8>"
      ]
     },
     "metadata": {},
     "output_type": "display_data"
    },
    {
     "data": {
      "image/png": "[encoded data removed]",
      "text/plain": [
       "<matplotlib.figure.Figure at 0x7f0f8806ef60>"
      ]
     },
     "metadata": {},
     "output_type": "display_data"
    },
    {
     "name": "stdout",
     "output_type": "stream",
     "text": [
      "average number of rectangles needed to fill the rectangle:48.0\n"
     ]
    },
    {
     "data": {
      "text/plain": [
       "48.0"
      ]
     },
     "execution_count": 46,
     "metadata": {},
     "output_type": "execute_result"
    }
   ],
   "source": [
    "# run 10 times\n",
    "visualRec.flush()\n",
    "visualRec.coverFull(10)"
   ]
  },
  {
   "cell_type": "code",
   "execution_count": null,
   "metadata": {
    "collapsed": true
   },
   "outputs": [],
   "source": []
  },
  {
   "cell_type": "code",
   "execution_count": null,
   "metadata": {
    "collapsed": true
   },
   "outputs": [],
   "source": []
  },
  {
   "cell_type": "code",
   "execution_count": null,
   "metadata": {
    "collapsed": true
   },
   "outputs": [],
   "source": []
  }
 ],
 "metadata": {
  "kernelspec": {
   "display_name": "Python 3",
   "language": "python",
   "name": "python3"
  },
  "language_info": {
   "codemirror_mode": {
    "name": "ipython",
    "version": 3
   },
   "file_extension": ".py",
   "mimetype": "text/x-python",
   "name": "python",
   "nbconvert_exporter": "python",
   "pygments_lexer": "ipython3",
   "version": "3.6.1"
  }
 },
 "nbformat": 4,
 "nbformat_minor": 2
}
